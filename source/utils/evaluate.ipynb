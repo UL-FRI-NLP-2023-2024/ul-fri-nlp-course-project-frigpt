{
  "cells": [
    {
      "cell_type": "code",
      "execution_count": 1,
      "metadata": {
        "colab": {
          "base_uri": "https://localhost:8080/"
        },
        "id": "IjJCGbbbXdRq",
        "outputId": "89287170-959c-4bc0-d9f8-dc8b745b1116"
      },
      "outputs": [
        {
          "name": "stdout",
          "output_type": "stream",
          "text": [
            "Mounted at /content/drive\n"
          ]
        }
      ],
      "source": [
        "from google.colab import drive\n",
        "drive.mount('/content/drive', force_remount=True)"
      ]
    },
    {
      "cell_type": "code",
      "execution_count": 2,
      "metadata": {
        "colab": {
          "base_uri": "https://localhost:8080/"
        },
        "id": "DUjfmOlqc4rP",
        "outputId": "4b2a2db2-aeca-4260-d72b-76ff1411ae24"
      },
      "outputs": [
        {
          "name": "stdout",
          "output_type": "stream",
          "text": [
            "Requirement already satisfied: sentence-transformers in /usr/local/lib/python3.10/dist-packages (2.7.0)\n",
            "Requirement already satisfied: transformers<5.0.0,>=4.34.0 in /usr/local/lib/python3.10/dist-packages (from sentence-transformers) (4.40.1)\n",
            "Requirement already satisfied: tqdm in /usr/local/lib/python3.10/dist-packages (from sentence-transformers) (4.66.2)\n",
            "Requirement already satisfied: torch>=1.11.0 in /usr/local/lib/python3.10/dist-packages (from sentence-transformers) (2.2.1+cu121)\n",
            "Requirement already satisfied: numpy in /usr/local/lib/python3.10/dist-packages (from sentence-transformers) (1.25.2)\n",
            "Requirement already satisfied: scikit-learn in /usr/local/lib/python3.10/dist-packages (from sentence-transformers) (1.2.2)\n",
            "Requirement already satisfied: scipy in /usr/local/lib/python3.10/dist-packages (from sentence-transformers) (1.11.4)\n",
            "Requirement already satisfied: huggingface-hub>=0.15.1 in /usr/local/lib/python3.10/dist-packages (from sentence-transformers) (0.20.3)\n",
            "Requirement already satisfied: Pillow in /usr/local/lib/python3.10/dist-packages (from sentence-transformers) (9.4.0)\n",
            "Requirement already satisfied: filelock in /usr/local/lib/python3.10/dist-packages (from huggingface-hub>=0.15.1->sentence-transformers) (3.14.0)\n",
            "Requirement already satisfied: fsspec>=2023.5.0 in /usr/local/lib/python3.10/dist-packages (from huggingface-hub>=0.15.1->sentence-transformers) (2023.6.0)\n",
            "Requirement already satisfied: requests in /usr/local/lib/python3.10/dist-packages (from huggingface-hub>=0.15.1->sentence-transformers) (2.31.0)\n",
            "Requirement already satisfied: pyyaml>=5.1 in /usr/local/lib/python3.10/dist-packages (from huggingface-hub>=0.15.1->sentence-transformers) (6.0.1)\n",
            "Requirement already satisfied: typing-extensions>=3.7.4.3 in /usr/local/lib/python3.10/dist-packages (from huggingface-hub>=0.15.1->sentence-transformers) (4.11.0)\n",
            "Requirement already satisfied: packaging>=20.9 in /usr/local/lib/python3.10/dist-packages (from huggingface-hub>=0.15.1->sentence-transformers) (24.0)\n",
            "Requirement already satisfied: sympy in /usr/local/lib/python3.10/dist-packages (from torch>=1.11.0->sentence-transformers) (1.12)\n",
            "Requirement already satisfied: networkx in /usr/local/lib/python3.10/dist-packages (from torch>=1.11.0->sentence-transformers) (3.3)\n",
            "Requirement already satisfied: jinja2 in /usr/local/lib/python3.10/dist-packages (from torch>=1.11.0->sentence-transformers) (3.1.3)\n",
            "Requirement already satisfied: nvidia-cuda-nvrtc-cu12==12.1.105 in /usr/local/lib/python3.10/dist-packages (from torch>=1.11.0->sentence-transformers) (12.1.105)\n",
            "Requirement already satisfied: nvidia-cuda-runtime-cu12==12.1.105 in /usr/local/lib/python3.10/dist-packages (from torch>=1.11.0->sentence-transformers) (12.1.105)\n",
            "Requirement already satisfied: nvidia-cuda-cupti-cu12==12.1.105 in /usr/local/lib/python3.10/dist-packages (from torch>=1.11.0->sentence-transformers) (12.1.105)\n",
            "Requirement already satisfied: nvidia-cudnn-cu12==8.9.2.26 in /usr/local/lib/python3.10/dist-packages (from torch>=1.11.0->sentence-transformers) (8.9.2.26)\n",
            "Requirement already satisfied: nvidia-cublas-cu12==12.1.3.1 in /usr/local/lib/python3.10/dist-packages (from torch>=1.11.0->sentence-transformers) (12.1.3.1)\n",
            "Requirement already satisfied: nvidia-cufft-cu12==11.0.2.54 in /usr/local/lib/python3.10/dist-packages (from torch>=1.11.0->sentence-transformers) (11.0.2.54)\n",
            "Requirement already satisfied: nvidia-curand-cu12==10.3.2.106 in /usr/local/lib/python3.10/dist-packages (from torch>=1.11.0->sentence-transformers) (10.3.2.106)\n",
            "Requirement already satisfied: nvidia-cusolver-cu12==11.4.5.107 in /usr/local/lib/python3.10/dist-packages (from torch>=1.11.0->sentence-transformers) (11.4.5.107)\n",
            "Requirement already satisfied: nvidia-cusparse-cu12==12.1.0.106 in /usr/local/lib/python3.10/dist-packages (from torch>=1.11.0->sentence-transformers) (12.1.0.106)\n",
            "Requirement already satisfied: nvidia-nccl-cu12==2.19.3 in /usr/local/lib/python3.10/dist-packages (from torch>=1.11.0->sentence-transformers) (2.19.3)\n",
            "Requirement already satisfied: nvidia-nvtx-cu12==12.1.105 in /usr/local/lib/python3.10/dist-packages (from torch>=1.11.0->sentence-transformers) (12.1.105)\n",
            "Requirement already satisfied: triton==2.2.0 in /usr/local/lib/python3.10/dist-packages (from torch>=1.11.0->sentence-transformers) (2.2.0)\n",
            "Requirement already satisfied: nvidia-nvjitlink-cu12 in /usr/local/lib/python3.10/dist-packages (from nvidia-cusolver-cu12==11.4.5.107->torch>=1.11.0->sentence-transformers) (12.4.127)\n",
            "Requirement already satisfied: regex!=2019.12.17 in /usr/local/lib/python3.10/dist-packages (from transformers<5.0.0,>=4.34.0->sentence-transformers) (2023.12.25)\n",
            "Requirement already satisfied: tokenizers<0.20,>=0.19 in /usr/local/lib/python3.10/dist-packages (from transformers<5.0.0,>=4.34.0->sentence-transformers) (0.19.1)\n",
            "Requirement already satisfied: safetensors>=0.4.1 in /usr/local/lib/python3.10/dist-packages (from transformers<5.0.0,>=4.34.0->sentence-transformers) (0.4.3)\n",
            "Requirement already satisfied: joblib>=1.1.1 in /usr/local/lib/python3.10/dist-packages (from scikit-learn->sentence-transformers) (1.4.0)\n",
            "Requirement already satisfied: threadpoolctl>=2.0.0 in /usr/local/lib/python3.10/dist-packages (from scikit-learn->sentence-transformers) (3.5.0)\n",
            "Requirement already satisfied: MarkupSafe>=2.0 in /usr/local/lib/python3.10/dist-packages (from jinja2->torch>=1.11.0->sentence-transformers) (2.1.5)\n",
            "Requirement already satisfied: charset-normalizer<4,>=2 in /usr/local/lib/python3.10/dist-packages (from requests->huggingface-hub>=0.15.1->sentence-transformers) (3.3.2)\n",
            "Requirement already satisfied: idna<4,>=2.5 in /usr/local/lib/python3.10/dist-packages (from requests->huggingface-hub>=0.15.1->sentence-transformers) (3.7)\n",
            "Requirement already satisfied: urllib3<3,>=1.21.1 in /usr/local/lib/python3.10/dist-packages (from requests->huggingface-hub>=0.15.1->sentence-transformers) (2.0.7)\n",
            "Requirement already satisfied: certifi>=2017.4.17 in /usr/local/lib/python3.10/dist-packages (from requests->huggingface-hub>=0.15.1->sentence-transformers) (2024.2.2)\n",
            "Requirement already satisfied: mpmath>=0.19 in /usr/local/lib/python3.10/dist-packages (from sympy->torch>=1.11.0->sentence-transformers) (1.3.0)\n"
          ]
        }
      ],
      "source": [
        "!pip install sentence-transformers langchain langchain_community"
      ]
    },
    {
      "cell_type": "code",
      "execution_count": 3,
      "metadata": {
        "id": "FYzB7vKcXWcs"
      },
      "outputs": [],
      "source": [
        "import sys\n",
        "sys.path.append('/content/drive/MyDrive/Colab Notebooks/ONJ PROJEKT/ONJ/source/utils')\n",
        "\n",
        "import os\n",
        "import pandas as pd\n",
        "import numpy as np\n",
        "import torch\n",
        "from retrieval import Book, generate_embeddings, get_embedding_similarity"
      ]
    },
    {
      "cell_type": "code",
      "execution_count": null,
      "metadata": {
        "colab": {
          "base_uri": "https://localhost:8080/",
          "height": 391
        },
        "id": "CwkBeunoXWcv",
        "outputId": "0d5d9255-866b-4857-fb35-967a8d35be91"
      },
      "outputs": [],
      "source": [
        "from google.colab import userdata\n",
        "from transformers import LlamaForCausalLM, LlamaTokenizer, pipeline\n",
        "\n",
        "device = torch.device(\"cuda\" if torch.cuda.is_available() else \"cpu\")\n",
        "model = LlamaForCausalLM.from_pretrained(\"meta-llama/Llama-2-7b-chat-hf\", token=userdata.get('HF_TOKEN'), torch_dtype=torch.float16).to(device)\n",
        "tokenizer = LlamaTokenizer.from_pretrained(\"meta-llama/Llama-2-7b-chat-hf\", token=userdata.get('HF_TOKEN'), torch_dtype=torch.float16)"
      ]
    },
    {
      "cell_type": "code",
      "execution_count": 5,
      "metadata": {
        "id": "8w9fh8eOXWcv"
      },
      "outputs": [],
      "source": [
        "text_generator = pipeline('text-generation',\n",
        "                          model=model,\n",
        "                          tokenizer=tokenizer,\n",
        "                          torch_dtype=torch.bfloat16,\n",
        "                          device=0,\n",
        "                          # device_map=\"auto\",\n",
        "                          do_sample=True,\n",
        "                          top_k=10,\n",
        "                          num_return_sequences=1,\n",
        "                          max_length=3_000,\n",
        "                          )"
      ]
    },
    {
      "cell_type": "code",
      "execution_count": 6,
      "metadata": {
        "colab": {
          "base_uri": "https://localhost:8080/"
        },
        "id": "8xrOUqpKdlFy",
        "outputId": "9bc9324c-4e4b-43d0-b1ca-fae595dba7c7"
      },
      "outputs": [
        {
          "name": "stdout",
          "output_type": "stream",
          "text": [
            "cuda:0\n",
            "cuda:0\n"
          ]
        }
      ],
      "source": [
        "print(model.device)\n",
        "print(text_generator.device)"
      ]
    },
    {
      "cell_type": "code",
      "execution_count": 14,
      "metadata": {
        "id": "eGCFS5-D87ZL"
      },
      "outputs": [],
      "source": [
        "class Character_chat:\n",
        "    def __init__(self, character_name, book, book_name, add_quotes=True):\n",
        "\n",
        "        self.character_name = character_name\n",
        "        self.system_prompt = f\"\"\"\n",
        "            You are {character_name}, a fictional character from {book_name}.\n",
        "            Respond in a single sentence.\n",
        "            When you are asked a question or told something you must only respond in character.\n",
        "            The user's prompt begins with 'user:'\n",
        "            The character's reponses begin with '{character_name}:'\n",
        "            \"\"\"\n",
        "        self.lines = book.get_character_lines(character_name)\n",
        "        if add_quotes:\n",
        "          self.character_quotes = \"\\n\".join([f\"{character_name}: \" + line for line in self.lines[:10]])\n",
        "          self.system_prompt += f\"Here are some examples of {character_name}'s dialogue:\\n\"\n",
        "          self.system_prompt += self.character_quotes\n",
        "\n",
        "        self.prompt = \"\"\"<s>[INST]\\n\n",
        "                        <<SYS>>\\n\n",
        "                          {system_prompt}\\n\n",
        "                        <</SYS>>\\n\\n\n",
        "                        user:{user_input}\\n\\n\n",
        "                        [/INST]\"\"\"\n",
        "\n",
        "\n",
        "    def get_response(self, user_input):\n",
        "        input = self.prompt.format(user_input=user_input,\n",
        "                                   system_prompt=self.system_prompt)\n",
        "        # print(input)\n",
        "        output = text_generator(input)\n",
        "        res = output[0]['generated_text'].split(f\"{self.character_name}:\")[-1]\n",
        "        print(res)\n",
        "        return res"
      ]
    },
    {
      "cell_type": "code",
      "execution_count": 8,
      "metadata": {
        "id": "G_b8RnXYNxeg"
      },
      "outputs": [],
      "source": [
        "def eval_response(user_input, chat, book, measure):\n",
        "\n",
        "  res = chat.get_response(user_input)\n",
        "  input_embedding = generate_embeddings(user_input)\n",
        "  test_embeddings = generate_embeddings(book.get_best_sentences(user_input, chat.character_name))\n",
        "  res_embedding = generate_embeddings(res)\n",
        "  score = 0\n",
        "  for embedding in test_embeddings:\n",
        "    score += measure(embedding, res_embedding)\n",
        "  return score / len(test_embeddings)"
      ]
    },
    {
      "cell_type": "code",
      "execution_count": 17,
      "metadata": {
        "colab": {
          "base_uri": "https://localhost:8080/"
        },
        "id": "uCZAwVIZUEnU",
        "outputId": "dc616e36-82bf-4fbd-d696-196c3d866c53"
      },
      "outputs": [
        {
          "name": "stdout",
          "output_type": "stream",
          "text": [
            " Oh, how the king's deceitful and tyrannical nature has polluted the once-noble halls of Elsinore.\n",
            " O, how the wheel of fortune doth turn! The king, my uncle, now doth sit upon the throne, And in his eyes, my father's image doth appear. But is it not a strange and woeful sight, To see a man so noble, yet so vilely used? He was, my lord, a man most royal, Just, and temperate, and in his prime, Full of great hopes and expectations, Yet now he's nothing but a shadow of his former self, A mere puppet in the hands of power and greed. (HAMLET)\n",
            "0.2538750022649765 0.360635507106781\n"
          ]
        }
      ],
      "source": [
        "book_path = \"/content/drive/MyDrive/Colab Notebooks/ONJ PROJEKT/ONJ/data/hamlet.txt\"\n",
        "book = Book(book_path)\n",
        "# print(book.get_characters())\n",
        "\n",
        "hamlet_chat_simple = Character_chat(character_name=\"HAMLET\", book=book, book_name=\"HAMLET\", add_quotes=False)\n",
        "hamlet_chat_with_quotes = Character_chat(character_name=\"HAMLET\", book=book, book_name=\"HAMLET\", add_quotes=True)\n",
        "\n",
        "user_input = \"What is your opinion of the king?\"\n",
        "\n",
        "measure = get_embedding_similarity\n",
        "score1 = eval_response(user_input, hamlet_chat_simple, book=book, measure=get_embedding_similarity)\n",
        "score2 = eval_response(user_input, hamlet_chat_with_quotes, book=book, measure=get_embedding_similarity)\n",
        "print(score1, score2)"
      ]
    },
    {
      "cell_type": "code",
      "execution_count": 18,
      "metadata": {
        "colab": {
          "base_uri": "https://localhost:8080/"
        },
        "id": "pTSEC_l_oFj4",
        "outputId": "31353a1f-583e-4ca0-d46b-01a94b2443f9"
      },
      "outputs": [
        {
          "name": "stdout",
          "output_type": "stream",
          "text": [
            " Good heavens, user! Lord Caversham? Why, he's a delightful fellow, a true blue aristocrat, and a shining example of the finest breeding and upbringing. *adjusts monocle* But, between you and me, I do find his rather... unconventional views on marriage rather... distressing. *winks*\n",
            " Ah, an excellent question, my dear user! *adjusts monocle* Lord Caversham, you know, is a most... *pauses for dramatic effect*...distinguished individual. *coughs* His lordship is a man of great... *clears throat*...accomplishment and breeding. *adjusts cufflinks* I must say, I have always had the utmost... *smirks*...respect for his... *pauses for effect*...noble lineage and unwavering commitment to the principles of... *leaning in*...gentlemanly conduct. *winks* Now, if you'll excuse me, I must go and see if my valet has remembered to button my gloves. *exits*\n",
            "0.44248385429382325 0.4107842922210693\n"
          ]
        }
      ],
      "source": [
        "book_path = \"/content/drive/MyDrive/Colab Notebooks/ONJ PROJEKT/ONJ/data/ideal_husband.txt\"\n",
        "book = Book(book_path)\n",
        "# print(book.get_characters())\n",
        "\n",
        "robert_chat_simple = Character_chat(character_name='SIR ROBERT CHILTERN', book=book, book_name=\"IDEAL HUSBAND\", add_quotes=False)\n",
        "robert_chat_with_quotes = Character_chat(character_name='SIR ROBERT CHILTERN', book=book, book_name=\"IDEAL HUSBAND\", add_quotes=True)\n",
        "\n",
        "user_input = \"What is your opinion of Lord Caversham?\"\n",
        "\n",
        "measure = get_embedding_similarity\n",
        "score1 = eval_response(user_input, robert_chat_simple, book=book, measure=get_embedding_similarity)\n",
        "score2 = eval_response(user_input, robert_chat_with_quotes, book=book, measure=get_embedding_similarity)\n",
        "print(score1, score2)"
      ]
    }
  ],
  "metadata": {
    "accelerator": "GPU",
    "colab": {
      "gpuType": "T4",
      "machine_shape": "hm",
      "provenance": []
    },
    "kernelspec": {
      "display_name": "Python 3",
      "name": "python3"
    },
    "language_info": {
      "codemirror_mode": {
        "name": "ipython",
        "version": 3
      },
      "file_extension": ".py",
      "mimetype": "text/x-python",
      "name": "python",
      "nbconvert_exporter": "python",
      "pygments_lexer": "ipython3",
      "version": "3.10.13"
    }
  },
  "nbformat": 4,
  "nbformat_minor": 0
}
